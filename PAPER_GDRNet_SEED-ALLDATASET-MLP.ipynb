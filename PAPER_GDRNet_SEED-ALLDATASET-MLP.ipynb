{
  "cells": [
    {
      "cell_type": "markdown",
      "metadata": {
        "id": "view-in-github",
        "colab_type": "text"
      },
      "source": [
        "<a href=\"https://colab.research.google.com/github/supriyag123/PHD_Pub/blob/main/PAPER_GDRNet_SEED-ALLDATASET-MLP.ipynb\" target=\"_parent\"><img src=\"https://colab.research.google.com/assets/colab-badge.svg\" alt=\"Open In Colab\"/></a>"
      ]
    },
    {
      "cell_type": "code",
      "execution_count": null,
      "metadata": {
        "id": "bx-5b_puABG1",
        "outputId": "ef5c476c-54f9-4b15-c6ff-62ead0f32477",
        "colab": {
          "base_uri": "https://localhost:8080/"
        }
      },
      "outputs": [
        {
          "output_type": "stream",
          "name": "stdout",
          "text": [
            "\n",
            "===== Running seed 42 =====\n"
          ]
        },
        {
          "output_type": "stream",
          "name": "stderr",
          "text": [
            "/usr/local/lib/python3.12/dist-packages/keras/src/layers/core/dense.py:93: UserWarning: Do not pass an `input_shape`/`input_dim` argument to a layer. When using Sequential models, prefer using an `Input(shape)` object as the first layer in the model instead.\n",
            "  super().__init__(activity_regularizer=activity_regularizer, **kwargs)\n",
            "/usr/local/lib/python3.12/dist-packages/keras/src/layers/activations/leaky_relu.py:41: UserWarning: Argument `alpha` is deprecated. Use `negative_slope` instead.\n",
            "  warnings.warn(\n"
          ]
        },
        {
          "output_type": "stream",
          "name": "stdout",
          "text": [
            "Epoch 1/100\n",
            "\u001b[1m5040/5040\u001b[0m \u001b[32m━━━━━━━━━━━━━━━━━━━━\u001b[0m\u001b[37m\u001b[0m \u001b[1m14s\u001b[0m 2ms/step - loss: 0.8888 - val_loss: 0.8222\n",
            "Epoch 2/100\n",
            "\u001b[1m5040/5040\u001b[0m \u001b[32m━━━━━━━━━━━━━━━━━━━━\u001b[0m\u001b[37m\u001b[0m \u001b[1m11s\u001b[0m 2ms/step - loss: 0.8207 - val_loss: 0.7942\n",
            "Epoch 3/100\n",
            "\u001b[1m4503/5040\u001b[0m \u001b[32m━━━━━━━━━━━━━━━━━\u001b[0m\u001b[37m━━━\u001b[0m \u001b[1m0s\u001b[0m 2ms/step - loss: 0.7945"
          ]
        }
      ],
      "source": [
        "import pandas as pd\n",
        "import numpy as np\n",
        "from sklearn.preprocessing import MinMaxScaler, StandardScaler\n",
        "import matplotlib.pyplot as plt\n",
        "import tensorflow as tf\n",
        "import os\n",
        "import math\n",
        "import plotly.graph_objects as go\n",
        "from tensorflow import keras\n",
        "from tensorflow.keras import layers\n",
        "from tensorflow.keras.models import Sequential\n",
        "from tensorflow.keras.layers import Dense, LSTM, Dropout, RepeatVector, TimeDistributed, Input, LeakyReLU\n",
        "from keras.models import Model\n",
        "from keras import backend as K\n",
        "from tensorflow.keras.optimizers import *\n",
        "from tensorflow.keras.callbacks import EarlyStopping, ModelCheckpoint\n",
        "from keras.callbacks import Callback\n",
        "import plotly\n",
        "import plotly.express as px # for data visualization\n",
        "import seaborn as sns\n",
        "from sklearn.metrics import mean_squared_error\n",
        "from sklearn.model_selection import train_test_split\n",
        "import random\n",
        "from math import sqrt\n",
        "\n",
        "# ====================================================\n",
        "# Load data\n",
        "# ====================================================\n",
        "\n",
        "##MetroPM\n",
        "y = np.load(r'/content/drive/MyDrive/PHD/2024/TEMP_OUTPUT_METROPM/generated-data-true-window2.npy')\n",
        "x = np.load(r'/content/drive/MyDrive/PHD/2024/TEMP_OUTPUT_METROPM/generated-data2.npy')\n",
        "\n",
        "##AQ\n",
        "y = np.load(r'/content/drive/MyDrive/PHD/2024/TEMP_OUTPUT_AIRQUALITY/generated-data-true-window2.npy')\n",
        "x = np.load(r'/content/drive/MyDrive/PHD/2024/TEMP_OUTPUT_AIRQUALITY/generated-data2.npy')\n",
        "\n",
        "##ELECTRICITY\n",
        "x=np.load(r'/content/drive/MyDrive/PHD/2024/TEMP_OUTPUT_ELECTRICITY/generated-data2.npy')\n",
        "y=np.load(r'/content/drive/MyDrive/PHD/2024/TEMP_OUTPUT_ELECTRICITY/generated-data-true-window2.npy')\n",
        "\n",
        "from sklearn.preprocessing import PowerTransformer\n",
        "transformer = StandardScaler()\n",
        "y_transformed = transformer.fit_transform(y.reshape(-1,1)).flatten()\n",
        "x_train, x_test, y_train, y_test = train_test_split(x, y_transformed, test_size = 0.1, random_state = 42)\n",
        "\n",
        "# ======================= Model Builder ==========================\n",
        "def build_model(input_dim):\n",
        "    model = Sequential()\n",
        "    model.add(Dense(units=64, input_dim=input_dim))\n",
        "    model.add(LeakyReLU(alpha=0.1))\n",
        "    model.add(Dense(units=32)); model.add(LeakyReLU(alpha=0.1))\n",
        "    model.add(Dense(units=16)); model.add(LeakyReLU(alpha=0.1))\n",
        "    model.add(Dense(units=8));  model.add(LeakyReLU(alpha=0.1))\n",
        "    model.add(Dense(units=1))\n",
        "    optim = keras.optimizers.Adam(learning_rate=0.001, clipnorm=1)\n",
        "    model.compile(loss='mean_squared_error', optimizer=optim)\n",
        "    return model\n",
        "\n",
        "# ======================= Robustness Runs ========================\n",
        "seeds = [42, 123, 999, 2024, 7]\n",
        "rmse_scores = []\n",
        "\n",
        "for seed in seeds:\n",
        "    print(f\"\\n===== Running seed {seed} =====\")\n",
        "\n",
        "    # Set seeds for reproducibility\n",
        "    os.environ['PYTHONHASHSEED'] = str(seed)\n",
        "    random.seed(seed)\n",
        "    np.random.seed(seed)\n",
        "    tf.random.set_seed(seed)\n",
        "\n",
        "    # Train-test split\n",
        "    x_train, x_test, y_train, y_test = train_test_split(\n",
        "        x, y_transformed, test_size=0.1, random_state=seed\n",
        "    )\n",
        "\n",
        "    # Build and train\n",
        "    model = build_model(x.shape[1])\n",
        "\n",
        "    cp_callback = ModelCheckpoint(\n",
        "        filepath=f\"/content/drive/MyDrive/PHD/2024/TEMP_OUTPUT_METROPM/ckp_seed{seed}.weights.h5\",\n",
        "        monitor='loss', save_best_only=True, save_weights_only=True\n",
        "    )\n",
        "    es = EarlyStopping(patience=20, verbose=1, min_delta=1e-4, monitor='loss',\n",
        "                       mode='min', restore_best_weights=True)\n",
        "\n",
        "    history = model.fit(\n",
        "        x_train, y_train,\n",
        "        epochs=100, batch_size=50,\n",
        "        validation_split=0.2,\n",
        "        callbacks=[cp_callback, es],\n",
        "        verbose=1\n",
        "    )\n",
        "\n",
        "    # Evaluation\n",
        "    y_pred = model.predict(x_test)\n",
        "    y_test_inv = scaler.inverse_transform(y_test.reshape(-1, 1)).flatten()\n",
        "    y_pred_inv = scaler.inverse_transform(y_pred).flatten()\n",
        "    rmse = math.sqrt(mean_squared_error(y_test_inv, y_pred_inv))\n",
        "    rmse_scores.append(rmse)\n",
        "\n",
        "    print(f\"Seed {seed} RMSE: {rmse:.4f}\")\n",
        "\n",
        "# ======================= Summary ================================\n",
        "mean_rmse = np.mean(rmse_scores)\n",
        "std_rmse = np.std(rmse_scores)\n",
        "print(\"\\n=== Robustness Report (GDRNet MLP) ===\")\n",
        "print(f\"Seeds tested: {seeds}\")\n",
        "print(f\"RMSE mean ± std: {mean_rmse:.4f} ± {std_rmse:.4f}\")\n"
      ]
    }
  ],
  "metadata": {
    "colab": {
      "machine_shape": "hm",
      "provenance": [],
      "gpuType": "L4",
      "mount_file_id": "https://github.com/supriyag123/PHD_Pub/blob/main/PAPER_GDRNet_SEED-ALLDATASET-MLP.ipynb",
      "authorship_tag": "ABX9TyPPBvr88zi6m4AdjKU8on4y",
      "include_colab_link": true
    },
    "kernelspec": {
      "display_name": "Python 3",
      "name": "python3"
    },
    "language_info": {
      "name": "python"
    },
    "accelerator": "GPU"
  },
  "nbformat": 4,
  "nbformat_minor": 0
}