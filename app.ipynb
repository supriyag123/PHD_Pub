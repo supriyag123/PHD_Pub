{
  "cells": [
    {
      "cell_type": "markdown",
      "metadata": {
        "id": "view-in-github",
        "colab_type": "text"
      },
      "source": [
        "<a href=\"https://colab.research.google.com/github/supriyag123/PHD_Pub/blob/main/app.ipynb\" target=\"_parent\"><img src=\"https://colab.research.google.com/assets/colab-badge.svg\" alt=\"Open In Colab\"/></a>"
      ]
    },
    {
      "cell_type": "code",
      "source": [
        "# app.py\n",
        "\n",
        "%%writefile app.py\n",
        "# app.py - Complete Agentic Anomaly Detection Application\n",
        "import streamlit as st\n",
        "import pandas as pd\n",
        "import numpy as np\n",
        "import datetime as dt\n",
        "import time\n",
        "import plotly.express as px\n",
        "import plotly.graph_objects as go\n",
        "from plotly.subplots import make_subplots\n",
        "from agents.adaptive_window_agent import AdaptiveWindowAgent\n",
        "from agents.sensor_agent import SensorAgent\n",
        "from agents.global_anomaly_agent import GlobalAnomalyAgent\n",
        "from agents.master_agent import MasterAgent\n",
        "from utils.data_stream import simulate_stream\n",
        "\n",
        "# --- Initialize agents ---\n",
        "@st.cache_resource\n",
        "def initialize_agents():\n",
        "    print(\"🤖 Initializing agent network...\")\n",
        "    adaptive_agent = AdaptiveWindowAgent()\n",
        "    sensor_agents = {f\"sensor_{i}\": SensorAgent(f\"sensor_{i}\") for i in range(1, 6)}\n",
        "    global_agent = GlobalAnomalyAgent()\n",
        "    master_agent = MasterAgent(sensor_agents, global_agent, adaptive_agent)\n",
        "    print(\"✅ Agent network initialized\")\n",
        "    return adaptive_agent, sensor_agents, global_agent, master_agent\n",
        "\n",
        "adaptive_agent, sensor_agents, global_agent, master_agent = initialize_agents()\n",
        "\n",
        "# --- UI Setup ---\n",
        "st.set_page_config(\n",
        "    layout=\"wide\",\n",
        "    page_title=\"Agentic IoT Anomaly Detection\",\n",
        "    page_icon=\"🛰️\",\n",
        "    initial_sidebar_state=\"expanded\"\n",
        ")\n",
        "\n",
        "# --- Header ---\n",
        "st.title(\"🛰️ Agentic IoT Anomaly Detection System\")\n",
        "st.markdown(\"**Real-time MetroPT data analysis with Enhanced MLP-based adaptive windowing**\")\n",
        "\n",
        "# --- Sidebar Controls ---\n",
        "with st.sidebar:\n",
        "    st.title(\"⚙️ System Controls\")\n",
        "\n",
        "    # Playback controls\n",
        "    st.subheader(\"📊 Data Stream\")\n",
        "    speed = st.slider(\"⏩ Playback Speed\", 0.1, 5.0, 1.0, 0.1)\n",
        "\n",
        "    auto_run = st.checkbox(\"🔄 Auto-run\", value=True)\n",
        "\n",
        "    if st.button(\"⏸️ Pause/Resume\"):\n",
        "        st.session_state.paused = not st.session_state.get('paused', False)\n",
        "\n",
        "    if st.button(\"🔄 Reset System\"):\n",
        "        st.cache_resource.clear()\n",
        "        st.rerun()\n",
        "\n",
        "    # Model info\n",
        "    st.subheader(\"🤖 MLP Model Status\")\n",
        "    model_info = adaptive_agent.get_model_info()\n",
        "    st.write(\"**Enhanced MLP:**\", \"✅ Loaded\" if model_info['model_available'] else \"❌ Not Available\")\n",
        "    st.write(\"**Training Status:**\", \"✅ Trained\" if model_info['is_trained'] else \"⏳ Learning\")\n",
        "    st.write(\"**Feature Selection:**\", \"✅ Active\" if model_info['has_selector'] else \"📊 Basic\")\n",
        "\n",
        "    # Agent status\n",
        "    st.subheader(\"🔍 Agent Network\")\n",
        "    st.write(\"**Adaptive Window Agent:**\", \"🟢 Active\")\n",
        "    st.write(\"**Sensor Agents:**\", f\"🟢 {len(sensor_agents)} Active\")\n",
        "    st.write(\"**Global Anomaly Agent:**\", \"🟢 Active\")\n",
        "    st.write(\"**Master Agent:**\", \"🟢 Orchestrating\")\n",
        "\n",
        "    st.markdown(\"---\")\n",
        "    st.markdown(\"👤 **Agentic IoT System**\")\n",
        "    st.markdown(\"*Powered by Enhanced Feature Engineering MLP*\")\n",
        "\n",
        "# --- Initialize session state ---\n",
        "if 'history' not in st.session_state:\n",
        "    st.session_state.history = []\n",
        "if 'window_history' not in st.session_state:\n",
        "    st.session_state.window_history = []\n",
        "if 'anomaly_history' not in st.session_state:\n",
        "    st.session_state.anomaly_history = []\n",
        "if 'stream_iterator' not in st.session_state:\n",
        "    st.session_state.stream_iterator = simulate_stream()\n",
        "\n",
        "# --- Main Layout ---\n",
        "# Top row - Metrics and Controls\n",
        "metrics_row = st.container()\n",
        "with metrics_row:\n",
        "    col1, col2, col3, col4, col5, col6 = st.columns([1, 1, 1, 1, 1, 1])\n",
        "\n",
        "    # Sensor metrics will be updated in the loop\n",
        "    sensor_metric_containers = [col1, col2, col3, col4, col5]\n",
        "    window_metric_container = col6\n",
        "\n",
        "# Alert banner\n",
        "alert_container = st.container()\n",
        "\n",
        "# Main charts row\n",
        "charts_row = st.container()\n",
        "with charts_row:"
      ],
      "metadata": {
        "id": "oOHjAhnZs1Az",
        "outputId": "8ca08bec-5e30-493e-9ff9-574f26d9a314",
        "colab": {
          "base_uri": "https://localhost:8080/"
        }
      },
      "execution_count": 12,
      "outputs": [
        {
          "output_type": "stream",
          "name": "stdout",
          "text": [
            "Writing app.py\n"
          ]
        }
      ]
    },
    {
      "cell_type": "markdown",
      "source": [],
      "metadata": {
        "id": "W-RMQkgLak9I"
      }
    },
    {
      "cell_type": "markdown",
      "source": [],
      "metadata": {
        "id": "0zEUESMBM_Eo"
      }
    },
    {
      "cell_type": "code",
      "source": [
        "!jupyter nbconvert --to script iot_demo.ipynb\n",
        "!mv streamlit_app.py app.py"
      ],
      "metadata": {
        "id": "vWk8VjiGqwl0",
        "outputId": "39211f85-6b68-4b33-cd5b-5dbe99749392",
        "colab": {
          "base_uri": "https://localhost:8080/"
        }
      },
      "execution_count": 4,
      "outputs": [
        {
          "output_type": "stream",
          "name": "stdout",
          "text": [
            "[NbConvertApp] Converting notebook iot_demo.ipynb to script\n",
            "[NbConvertApp] ERROR | Notebook JSON is invalid: Additional properties are not allowed ('errorDetails' was unexpected)\n",
            "\n",
            "Failed validating 'additionalProperties' in error:\n",
            "\n",
            "On instance['cells'][0]['outputs'][0]:\n",
            "{'ename': 'ModuleNotFoundError',\n",
            " 'errorDetails': {'actions': [{'action': 'open_url',\n",
            "                               'actionText': 'Open Examples',\n",
            "                               'url': '/notebooks/snippets/importing_libraries.ipynb'}]},\n",
            " 'evalue': \"No module named 'streamlit'\",\n",
            " 'output_type': 'error',\n",
            " 'traceback': ['\\x1b[0;31m---------------------------------------------------------...',\n",
            "               '\\x1b[0;31mModuleNotFoundError\\x1b[0m                       '\n",
            "               'Traceback (...',\n",
            "               '\\x1b[0;32m/tmp/ipython-input-1877136291.py\\x1b[0m in '\n",
            "               '\\x1b[0;36m<cell line...',\n",
            "               '\\x1b[0;31mModuleNotFoundError\\x1b[0m: No module named '\n",
            "               \"'streamlit'\",\n",
            "               '',\n",
            "               '\\x1b[0;31m---------------------------------------------------------...']}\n",
            "[NbConvertApp] Writing 2424 bytes to iot_demo.txt\n"
          ]
        }
      ]
    },
    {
      "cell_type": "markdown",
      "metadata": {
        "id": "bQ6ZgIvrdRNp"
      },
      "source": [
        "# New Section"
      ]
    }
  ],
  "metadata": {
    "colab": {
      "provenance": [],
      "machine_shape": "hm",
      "mount_file_id": "https://github.com/supriyag123/PHD_Pub/blob/main/iot_demo.ipynb",
      "authorship_tag": "ABX9TyMbFXboNgVxuIRoKvRZanXC",
      "include_colab_link": true
    },
    "kernelspec": {
      "display_name": "Python 3",
      "name": "python3"
    },
    "language_info": {
      "name": "python"
    }
  },
  "nbformat": 4,
  "nbformat_minor": 0
}