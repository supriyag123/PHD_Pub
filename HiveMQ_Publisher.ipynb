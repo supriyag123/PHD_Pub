{
  "nbformat": 4,
  "nbformat_minor": 0,
  "metadata": {
    "colab": {
      "provenance": [],
      "mount_file_id": "https://github.com/supriyag123/PHD_Pub/blob/main/HiveMQ_Publisher.ipynb",
      "authorship_tag": "ABX9TyMNpqYLzvEIqF7SbOKnrFhv",
      "include_colab_link": true
    },
    "kernelspec": {
      "name": "python3",
      "display_name": "Python 3"
    },
    "language_info": {
      "name": "python"
    }
  },
  "cells": [
    {
      "cell_type": "markdown",
      "metadata": {
        "id": "view-in-github",
        "colab_type": "text"
      },
      "source": [
        "<a href=\"https://colab.research.google.com/github/supriyag123/PHD_Pub/blob/main/HiveMQ_Publisher.ipynb\" target=\"_parent\"><img src=\"https://colab.research.google.com/assets/colab-badge.svg\" alt=\"Open In Colab\"/></a>"
      ]
    },
    {
      "cell_type": "code",
      "execution_count": 130,
      "metadata": {
        "colab": {
          "base_uri": "https://localhost:8080/",
          "height": 294
        },
        "id": "x7LGBZAtdC-c",
        "outputId": "5fd753df-fd6d-444b-938a-ab310f4686ac"
      },
      "outputs": [
        {
          "output_type": "stream",
          "name": "stdout",
          "text": [
            "Requirement already satisfied: paho-mqtt in /usr/local/lib/python3.11/dist-packages (2.1.0)\n"
          ]
        },
        {
          "output_type": "stream",
          "name": "stderr",
          "text": [
            "<ipython-input-130-b329082c44cc>:61: DeprecationWarning: Callback API version 1 is deprecated, update to latest version\n",
            "  client = paho.Client(client_id=\"\", userdata=None, protocol=paho.MQTTv5)\n"
          ]
        },
        {
          "output_type": "error",
          "ename": "KeyboardInterrupt",
          "evalue": "",
          "traceback": [
            "\u001b[0;31m---------------------------------------------------------------------------\u001b[0m",
            "\u001b[0;31mKeyboardInterrupt\u001b[0m                         Traceback (most recent call last)",
            "\u001b[0;32m<ipython-input-130-b329082c44cc>\u001b[0m in \u001b[0;36m<cell line: 0>\u001b[0;34m()\u001b[0m\n\u001b[1;32m     89\u001b[0m   \u001b[0mload\u001b[0m \u001b[0;34m=\u001b[0m \u001b[0mJ\u001b[0m\u001b[0;34m[\u001b[0m\u001b[0mi\u001b[0m\u001b[0;34m]\u001b[0m\u001b[0;34m\u001b[0m\u001b[0;34m\u001b[0m\u001b[0m\n\u001b[1;32m     90\u001b[0m   \u001b[0mclient\u001b[0m\u001b[0;34m.\u001b[0m\u001b[0mpublish\u001b[0m\u001b[0;34m(\u001b[0m\u001b[0;34m\"water/IWSS_WEM_CAM_A1\"\u001b[0m\u001b[0;34m,\u001b[0m \u001b[0mpayload\u001b[0m\u001b[0;34m=\u001b[0m\u001b[0mstr\u001b[0m\u001b[0;34m(\u001b[0m\u001b[0mload\u001b[0m\u001b[0;34m)\u001b[0m\u001b[0;34m,\u001b[0m \u001b[0mqos\u001b[0m\u001b[0;34m=\u001b[0m\u001b[0;36m1\u001b[0m\u001b[0;34m)\u001b[0m\u001b[0;34m\u001b[0m\u001b[0;34m\u001b[0m\u001b[0m\n\u001b[0;32m---> 91\u001b[0;31m   \u001b[0mtime\u001b[0m\u001b[0;34m.\u001b[0m\u001b[0msleep\u001b[0m\u001b[0;34m(\u001b[0m\u001b[0;36m1\u001b[0m\u001b[0;34m)\u001b[0m\u001b[0;34m\u001b[0m\u001b[0;34m\u001b[0m\u001b[0m\n\u001b[0m\u001b[1;32m     92\u001b[0m \u001b[0;34m\u001b[0m\u001b[0m\n\u001b[1;32m     93\u001b[0m \u001b[0;34m\u001b[0m\u001b[0m\n",
            "\u001b[0;31mKeyboardInterrupt\u001b[0m: "
          ]
        }
      ],
      "source": [
        "# Copyright 2021 HiveMQ GmbH\n",
        "#\n",
        "# Licensed under the Apache License, Version 2.0 (the \"License\");\n",
        "# you may not use this file except in compliance with the License.\n",
        "# You may obtain a copy of the License at\n",
        "#\n",
        "#      http://www.apache.org/licenses/LICENSE-2.0\n",
        "#\n",
        "# Unless required by applicable law or agreed to in writing, software\n",
        "# distributed under the License is distributed on an \"AS IS\" BASIS,\n",
        "# WITHOUT WARRANTIES OR CONDITIONS OF ANY KIND, either express or implied.\n",
        "# See the License for the specific language governing permissions and\n",
        "# limitations under the License.\n",
        "#\n",
        "\n",
        "import pandas as pd\n",
        "import numpy as np\n",
        "from datetime import datetime\n",
        "today = datetime.today().strftime('%Y-%m-%d')\n",
        "\n",
        "\n",
        "df = pd.read_csv(r'/content/drive/MyDrive/PHD/2025/water_leakage/Sensor_data.csv')\n",
        "#print(df)\n",
        "\n",
        "# yymmdd\n",
        "# 3.6 f-string, use \"20{}/{}/{} \".format(fn[:2],fn[2:4],fn[4:]) if f-string not available\n",
        "#fn = f\"20{fn[:2]}/{fn[2:4]}/{fn[4:]} \"\n",
        "\n",
        "df['Date'] = today+\" \"+df['Timestamp']\n",
        "df.columns = df.columns.str.replace('Date', 'Datetime')\n",
        "df['Datetime'] = pd.to_datetime(df['Datetime'])\n",
        "df.drop(df.columns[1], axis=1, inplace=True)\n",
        "\n",
        "!pip install paho-mqtt\n",
        "import time\n",
        "import paho.mqtt.client as paho\n",
        "from paho import mqtt\n",
        "# setting callbacks for different events to see if it works, print the message etc.\n",
        "def on_connect(client, userdata, flags, rc, properties=None):\n",
        "    \"\"\"\n",
        "        Prints the result of the connection with a reasoncode to stdout ( used as callback for connect )\n",
        "\n",
        "        :param client: the client itself\n",
        "        :param userdata: userdata is set when initiating the client, here it is userdata=None\n",
        "        :param flags: these are response flags sent by the broker\n",
        "        :param rc: stands for reasonCode, which is a code for the connection result\n",
        "        :param properties: can be used in MQTTv5, but is optional\n",
        "    \"\"\"\n",
        "    print(\"CONNACK received with code %s.\" % rc)\n",
        "\n",
        "\n",
        "# with this callback you can see if your publish was successful\n",
        "def on_publish(client, userdata, mid, properties=None):\n",
        "    \"\"\"\n",
        "        Prints mid to stdout to reassure a successful publish ( used as callback for publish )\n",
        "\n",
        "        :param client: the client itself\n",
        "        :param userdata: userdata is set when initiating the client, here it is userdata=None\n",
        "        :param mid: variable returned from the corresponding publish() call, to allow outgoing messages to be tracked\n",
        "        :param properties: can be used in MQTTv5, but is optional\n",
        "    \"\"\"\n",
        "    print(\"mid: \" + str(mid))\n",
        "\n",
        "\n",
        "# print which topic was subscribed to\n",
        "def on_subscribe(client, userdata, mid, granted_qos, properties=None):\n",
        "    \"\"\"\n",
        "        Prints a reassurance for successfully subscribing\n",
        "\n",
        "        :param client: the client itself\n",
        "        :param userdata: userdata is set when initiating the client, here it is userdata=None\n",
        "        :param mid: variable returned from the corresponding publish() call, to allow outgoing messages to be tracked\n",
        "        :param granted_qos: this is the qos that you declare when subscribing, use the same one for publishing\n",
        "        :param properties: can be used in MQTTv5, but is optional\n",
        "    \"\"\"\n",
        "    print(\"Subscribed: \" + str(mid) + \" \" + str(granted_qos))\n",
        "\n",
        "\n",
        "# print message, useful for checking if it was successful\n",
        "def on_message(client, userdata, msg):\n",
        "    \"\"\"\n",
        "        Prints a mqtt message to stdout ( used as callback for subscribe )\n",
        "\n",
        "        :param client: the client itself\n",
        "        :param userdata: userdata is set when initiating the client, here it is userdata=None\n",
        "        :param msg: the message with topic and payload\n",
        "    \"\"\"\n",
        "    print(msg.topic + \" \" + str(msg.qos) + \" \" + str(msg.payload))\n",
        "\n",
        "\n",
        "# using MQTT version 5 here, for 3.1.1: MQTTv311, 3.1: MQTTv31\n",
        "# userdata is user defined data of any type, updated by user_data_set()\n",
        "# client_id is the given name of the client\n",
        "client = paho.Client(client_id=\"\", userdata=None, protocol=paho.MQTTv5)\n",
        "client.on_connect = on_connect\n",
        "\n",
        "# enable TLS for secure connection\n",
        "client.tls_set(tls_version=mqtt.client.ssl.PROTOCOL_TLS)\n",
        "# set username and password\n",
        "client.username_pw_set(\"deloitte_sg\", \"S.guha123\")\n",
        "# connect to HiveMQ Cloud on port 8883 (default for MQTT)\n",
        "client.connect(\"fb06bba4f6944982a741983f10c887dc.s1.eu.hivemq.cloud\", 8883)\n",
        "\n",
        "# setting callbacks, use separate functions like above for better visibility\n",
        "client.on_subscribe = on_subscribe\n",
        "client.on_message = on_message\n",
        "client.on_publish = on_publish\n",
        "\n",
        "# subscribe to all topics of encyclopedia by using the wildcard \"#\"\n",
        "client.subscribe(\"water/#\", qos=1)\n",
        "\n",
        "# a single publish, this can also be done in loops, etc.\n",
        "df1 = df[['Datetime','IWSS_WEM_CAM_A1']]\n",
        "df1.columns = df1.columns.str.replace('IWSS_WEM_CAM_A1', 'Value')\n",
        "df11= pd.DataFrame(index=range(len(df)),columns=range(1))\n",
        "df11 = df11.replace(np.nan,'IWSS_WEM_CAM_A1')\n",
        "df1 = pd.concat([df1,df11], axis = 1)\n",
        "df1.columns = ['Datetime','Value','Tag']\n",
        "J = df1.to_dict('records')\n",
        "\n",
        "for i in range(0,len(df1)):\n",
        "  load = J[i]\n",
        "  client.publish(\"water/IWSS_WEM_CAM_A1\", payload=str(load), qos=1)\n",
        "  time.sleep(1)\n",
        "\n",
        "\n",
        "#client.publish(\"water/IWSS_WEM_CAM_A1\", payload=\"hot\", qos=1)\n",
        "\n",
        "# loop_forever for simplicity, here you need to stop the loop manually\n",
        "# you can also use loop_start and loop_stop\n",
        "client.loop_forever()"
      ]
    }
  ]
}