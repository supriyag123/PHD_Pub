{
  "cells": [
    {
      "cell_type": "markdown",
      "metadata": {
        "id": "view-in-github",
        "colab_type": "text"
      },
      "source": [
        "<a href=\"https://colab.research.google.com/github/supriyag123/PHD_Pub/blob/main/data_stream.ipynb\" target=\"_parent\"><img src=\"https://colab.research.google.com/assets/colab-badge.svg\" alt=\"Open In Colab\"/></a>"
      ]
    },
    {
      "cell_type": "code",
      "source": [
        "# utils/data_stream.py\n",
        "\n",
        "%%writefile data_stream.py\n",
        "import pandas as pd\n",
        "import numpy as np\n",
        "import datetime as dt\n",
        "from typing import Iterator, Dict, Any\n",
        "\n",
        "def simulate_stream(filename: str = \"data/MetroPT.csv\") -> Iterator[Dict[str, Any]]:\n",
        "    \"\"\"\n",
        "    Simulates real-time data stream from MetroPT dataset\n",
        "    \"\"\"\n",
        "    try:\n",
        "        # Load MetroPT data (assuming it exists, otherwise generate synthetic data)\n",
        "        try:\n",
        "            df = pd.read_csv(filename)\n",
        "            # Assume MetroPT has columns like 'timestamp', 'sensor_1', 'sensor_2', etc.\n",
        "            if 'timestamp' not in df.columns:\n",
        "                df['timestamp'] = pd.date_range(start='2024-01-01', periods=len(df), freq='1T')\n",
        "        except FileNotFoundError:\n",
        "            # Generate synthetic MetroPT-like data if file doesn't exist\n",
        "            df = generate_synthetic_metropt_data()\n",
        "\n",
        "        # Ensure we have sensor columns\n",
        "        sensor_cols = [col for col in df.columns if col.startswith('sensor_') or col in ['sensor_1', 'sensor_2', 'sensor_3', 'sensor_4', 'sensor_5']]\n",
        "        if not sensor_cols:\n",
        "            # Create sensor columns from existing numeric columns\n",
        "            numeric_cols = df.select_dtypes(include=[np.number]).columns\n",
        "            sensor_cols = [f'sensor_{i+1}' for i in range(min(5, len(numeric_cols)))]\n",
        "            for i, col in enumerate(sensor_cols):\n",
        "                if i < len(numeric_cols):\n",
        "                    df[col] = df[numeric_cols[i]]\n",
        "                else:\n",
        "                    df[col] = np.random.normal(50, 10, len(df))\n",
        "\n",
        "        # Stream the data\n",
        "        for _, row in df.iterrows():\n",
        "            timestamp = row.get('timestamp', dt.datetime.now())\n",
        "            if isinstance(timestamp, str):\n",
        "                timestamp = pd.to_datetime(timestamp)\n",
        "\n",
        "            readings = {col: row[col] for col in sensor_cols}\n",
        "\n",
        "            yield {\n",
        "                \"timestamp\": timestamp,\n",
        "                \"readings\": readings\n",
        "            }\n",
        "\n",
        "    except Exception as e:\n",
        "        # Fallback to synthetic data\n",
        "        yield from generate_synthetic_stream()\n",
        "\n",
        "def generate_synthetic_metropt_data(n_samples: int = 1000) -> pd.DataFrame:\n",
        "    \"\"\"Generate synthetic MetroPT-like transportation data\"\"\"\n",
        "    np.random.seed(42)\n",
        "\n",
        "    timestamps = pd.date_range(start='2024-01-01', periods=n_samples, freq='1T')\n",
        "\n",
        "    # Simulate transportation metrics with realistic patterns\n",
        "    base_patterns = np.sin(np.linspace(0, 4*np.pi, n_samples)) * 20 + 50\n",
        "\n",
        "    data = {\n",
        "        'timestamp': timestamps,\n",
        "        'sensor_1': base_patterns + np.random.normal(0, 5, n_samples),  # Passenger count\n",
        "        'sensor_2': base_patterns * 0.8 + np.random.normal(0, 3, n_samples),  # Door cycles\n",
        "        'sensor_3': np.abs(base_patterns * 0.6) + np.random.normal(0, 2, n_samples),  # Speed\n",
        "        'sensor_4': 25 + np.sin(np.linspace(0, 2*np.pi, n_samples)) * 5 + np.random.normal(0, 1, n_samples),  # Temperature\n",
        "        'sensor_5': base_patterns * 1.2 + np.random.normal(0, 8, n_samples)  # Vibration\n",
        "    }\n",
        "\n",
        "    # Inject some anomalies\n",
        "    anomaly_indices = np.random.choice(n_samples, size=int(n_samples * 0.05), replace=False)\n",
        "    for idx in anomaly_indices:\n",
        "        sensor_to_anomalize = np.random.choice(['sensor_1', 'sensor_2', 'sensor_3', 'sensor_4', 'sensor_5'])\n",
        "        data[sensor_to_anomalize][idx] += np.random.choice([-1, 1]) * np.random.uniform(30, 50)\n",
        "\n",
        "    return pd.DataFrame(data)\n",
        "\n",
        "def generate_synthetic_stream() -> Iterator[Dict[str, Any]]:\n",
        "    \"\"\"Fallback synthetic stream generator\"\"\"\n",
        "    while True:\n",
        "        timestamp = dt.datetime.now()\n",
        "        readings = {\n",
        "            f\"sensor_{i}\": np.random.normal(50, 10) for i in range(1, 6)\n",
        "        }\n",
        "        yield {\n",
        "            \"timestamp\": timestamp,\n",
        "            \"readings\": readings\n",
        "        }"
      ],
      "metadata": {
        "id": "oOHjAhnZs1Az",
        "outputId": "90d05d6e-4ffd-4d9e-d8b3-132df9ab8b80",
        "colab": {
          "base_uri": "https://localhost:8080/"
        }
      },
      "execution_count": 5,
      "outputs": [
        {
          "output_type": "stream",
          "name": "stdout",
          "text": [
            "Writing app.py\n"
          ]
        }
      ]
    },
    {
      "cell_type": "markdown",
      "source": [],
      "metadata": {
        "id": "W-RMQkgLak9I"
      }
    },
    {
      "cell_type": "markdown",
      "source": [],
      "metadata": {
        "id": "0zEUESMBM_Eo"
      }
    },
    {
      "cell_type": "code",
      "source": [
        "!jupyter nbconvert --to script iot_demo.ipynb\n",
        "!mv streamlit_app.py app.py"
      ],
      "metadata": {
        "id": "vWk8VjiGqwl0",
        "outputId": "39211f85-6b68-4b33-cd5b-5dbe99749392",
        "colab": {
          "base_uri": "https://localhost:8080/"
        }
      },
      "execution_count": 4,
      "outputs": [
        {
          "output_type": "stream",
          "name": "stdout",
          "text": [
            "[NbConvertApp] Converting notebook iot_demo.ipynb to script\n",
            "[NbConvertApp] ERROR | Notebook JSON is invalid: Additional properties are not allowed ('errorDetails' was unexpected)\n",
            "\n",
            "Failed validating 'additionalProperties' in error:\n",
            "\n",
            "On instance['cells'][0]['outputs'][0]:\n",
            "{'ename': 'ModuleNotFoundError',\n",
            " 'errorDetails': {'actions': [{'action': 'open_url',\n",
            "                               'actionText': 'Open Examples',\n",
            "                               'url': '/notebooks/snippets/importing_libraries.ipynb'}]},\n",
            " 'evalue': \"No module named 'streamlit'\",\n",
            " 'output_type': 'error',\n",
            " 'traceback': ['\\x1b[0;31m---------------------------------------------------------...',\n",
            "               '\\x1b[0;31mModuleNotFoundError\\x1b[0m                       '\n",
            "               'Traceback (...',\n",
            "               '\\x1b[0;32m/tmp/ipython-input-1877136291.py\\x1b[0m in '\n",
            "               '\\x1b[0;36m<cell line...',\n",
            "               '\\x1b[0;31mModuleNotFoundError\\x1b[0m: No module named '\n",
            "               \"'streamlit'\",\n",
            "               '',\n",
            "               '\\x1b[0;31m---------------------------------------------------------...']}\n",
            "[NbConvertApp] Writing 2424 bytes to iot_demo.txt\n"
          ]
        }
      ]
    },
    {
      "cell_type": "markdown",
      "metadata": {
        "id": "bQ6ZgIvrdRNp"
      },
      "source": [
        "# New Section"
      ]
    }
  ],
  "metadata": {
    "colab": {
      "provenance": [],
      "machine_shape": "hm",
      "mount_file_id": "https://github.com/supriyag123/PHD_Pub/blob/main/iot_demo.ipynb",
      "authorship_tag": "ABX9TyONfe3A3tFyQU3YCoLunz4M",
      "include_colab_link": true
    },
    "kernelspec": {
      "display_name": "Python 3",
      "name": "python3"
    },
    "language_info": {
      "name": "python"
    }
  },
  "nbformat": 4,
  "nbformat_minor": 0
}