{
  "cells": [
    {
      "cell_type": "markdown",
      "metadata": {
        "id": "view-in-github",
        "colab_type": "text"
      },
      "source": [
        "<a href=\"https://colab.research.google.com/github/supriyag123/PHD_Pub/blob/main/global_anomaly_agent.ipynb\" target=\"_parent\"><img src=\"https://colab.research.google.com/assets/colab-badge.svg\" alt=\"Open In Colab\"/></a>"
      ]
    },
    {
      "cell_type": "code",
      "source": [
        "# agents/global_anomaly_agent.py\n",
        "\n",
        "%%writefile global_anomaly_agent.py\n",
        "\n",
        "import numpy as np\n",
        "import pandas as pd\n",
        "from sklearn.ensemble import IsolationForest\n",
        "from sklearn.preprocessing import StandardScaler\n",
        "\n",
        "class GlobalAnomalyAgent:\n",
        "    \"\"\"Global anomaly detection using Isolation Forest\"\"\"\n",
        "\n",
        "    def __init__(self, contamination: float = 0.1):\n",
        "        self.contamination = contamination\n",
        "        self.isolation_forest = IsolationForest(\n",
        "            contamination=contamination,\n",
        "            random_state=42,\n",
        "            n_estimators=100\n",
        "        )\n",
        "        self.scaler = StandardScaler()\n",
        "        self.is_trained = False\n",
        "        self.min_samples = 10\n",
        "\n",
        "    def detect(self, df: pd.DataFrame) -> bool:\n",
        "        \"\"\"Detect global anomaly across all sensors\"\"\"\n",
        "        if len(df) < self.min_samples:\n",
        "            return False\n",
        "\n",
        "        try:\n",
        "            # Prepare data (exclude timestamp if present)\n",
        "            data_cols = [col for col in df.columns if col != 'timestamp']\n",
        "            data = df[data_cols].dropna()\n",
        "\n",
        "            if len(data) < self.min_samples:\n",
        "                return False\n",
        "\n",
        "            # Train or retrain model if needed\n",
        "            if not self.is_trained or len(data) > len(getattr(self, '_last_training_data', [])):\n",
        "                self._train_model(data)\n",
        "\n",
        "            # Predict on latest sample\n",
        "            latest_sample = data.tail(1)\n",
        "            latest_scaled = self.scaler.transform(latest_sample)\n",
        "            prediction = self.isolation_forest.predict(latest_scaled)\n",
        "\n",
        "            return prediction[0] == -1  # -1 indicates anomaly\n",
        "\n",
        "        except Exception as e:\n",
        "            return False\n",
        "\n",
        "    def _train_model(self, data: pd.DataFrame):\n",
        "        \"\"\"Train the Isolation Forest model\"\"\"\n",
        "        try:\n",
        "            if len(data) >= self.min_samples:\n",
        "                data_scaled = self.scaler.fit_transform(data)\n",
        "                self.isolation_forest.fit(data_scaled)\n",
        "                self.is_trained = True\n",
        "                self._last_training_data = data.copy()\n",
        "        except Exception as e:\n",
        "            pass"
      ],
      "metadata": {
        "id": "oOHjAhnZs1Az",
        "outputId": "946a13f1-4409-416e-b124-8276bb3b0d53",
        "colab": {
          "base_uri": "https://localhost:8080/"
        }
      },
      "execution_count": 8,
      "outputs": [
        {
          "output_type": "stream",
          "name": "stdout",
          "text": [
            "Writing global_anomaly_agent.py\n"
          ]
        }
      ]
    },
    {
      "cell_type": "markdown",
      "source": [],
      "metadata": {
        "id": "W-RMQkgLak9I"
      }
    },
    {
      "cell_type": "markdown",
      "source": [],
      "metadata": {
        "id": "0zEUESMBM_Eo"
      }
    },
    {
      "cell_type": "code",
      "source": [
        "!jupyter nbconvert --to script iot_demo.ipynb\n",
        "!mv streamlit_app.py app.py"
      ],
      "metadata": {
        "id": "vWk8VjiGqwl0",
        "outputId": "39211f85-6b68-4b33-cd5b-5dbe99749392",
        "colab": {
          "base_uri": "https://localhost:8080/"
        }
      },
      "execution_count": 4,
      "outputs": [
        {
          "output_type": "stream",
          "name": "stdout",
          "text": [
            "[NbConvertApp] Converting notebook iot_demo.ipynb to script\n",
            "[NbConvertApp] ERROR | Notebook JSON is invalid: Additional properties are not allowed ('errorDetails' was unexpected)\n",
            "\n",
            "Failed validating 'additionalProperties' in error:\n",
            "\n",
            "On instance['cells'][0]['outputs'][0]:\n",
            "{'ename': 'ModuleNotFoundError',\n",
            " 'errorDetails': {'actions': [{'action': 'open_url',\n",
            "                               'actionText': 'Open Examples',\n",
            "                               'url': '/notebooks/snippets/importing_libraries.ipynb'}]},\n",
            " 'evalue': \"No module named 'streamlit'\",\n",
            " 'output_type': 'error',\n",
            " 'traceback': ['\\x1b[0;31m---------------------------------------------------------...',\n",
            "               '\\x1b[0;31mModuleNotFoundError\\x1b[0m                       '\n",
            "               'Traceback (...',\n",
            "               '\\x1b[0;32m/tmp/ipython-input-1877136291.py\\x1b[0m in '\n",
            "               '\\x1b[0;36m<cell line...',\n",
            "               '\\x1b[0;31mModuleNotFoundError\\x1b[0m: No module named '\n",
            "               \"'streamlit'\",\n",
            "               '',\n",
            "               '\\x1b[0;31m---------------------------------------------------------...']}\n",
            "[NbConvertApp] Writing 2424 bytes to iot_demo.txt\n"
          ]
        }
      ]
    },
    {
      "cell_type": "markdown",
      "metadata": {
        "id": "bQ6ZgIvrdRNp"
      },
      "source": [
        "# New Section"
      ]
    }
  ],
  "metadata": {
    "colab": {
      "provenance": [],
      "machine_shape": "hm",
      "mount_file_id": "https://github.com/supriyag123/PHD_Pub/blob/main/iot_demo.ipynb",
      "authorship_tag": "ABX9TyMIMQRQAIDyipwfPvFduYVM",
      "include_colab_link": true
    },
    "kernelspec": {
      "display_name": "Python 3",
      "name": "python3"
    },
    "language_info": {
      "name": "python"
    }
  },
  "nbformat": 4,
  "nbformat_minor": 0
}