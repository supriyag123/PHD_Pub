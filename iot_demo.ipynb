{
  "cells": [
    {
      "cell_type": "markdown",
      "metadata": {
        "id": "view-in-github",
        "colab_type": "text"
      },
      "source": [
        "<a href=\"https://colab.research.google.com/github/supriyag123/PHD_Pub/blob/main/iot_demo.ipynb\" target=\"_parent\"><img src=\"https://colab.research.google.com/assets/colab-badge.svg\" alt=\"Open In Colab\"/></a>"
      ]
    },
    {
      "cell_type": "code",
      "source": [
        "# app.py\n",
        "\n",
        "import streamlit as st\n",
        "import pandas as pd\n",
        "import numpy as np\n",
        "import datetime as dt\n",
        "import time\n",
        "from agents.adaptive_window_agent import AdaptiveWindowAgent\n",
        "from agents.sensor_agent import SensorAgent\n",
        "from agents.global_anomaly_agent import GlobalAnomalyAgent\n",
        "from agents.master_agent import MasterAgent\n",
        "from utils.data_stream import simulate_stream\n",
        "\n",
        "# --- Initialize agents ---\n",
        "adaptive_agent = AdaptiveWindowAgent()\n",
        "sensor_agents = {f\"sensor_{i}\": SensorAgent(f\"sensor_{i}\") for i in range(1, 6)}\n",
        "global_agent = GlobalAnomalyAgent()\n",
        "master_agent = MasterAgent(sensor_agents, global_agent, adaptive_agent)\n",
        "\n",
        "# --- UI Setup ---\n",
        "st.set_page_config(layout=\"wide\")\n",
        "st.title(\"🛰️ Agentic IoT Anomaly Detection System\")\n",
        "\n",
        "st.sidebar.title(\"⚙️ Controls\")\n",
        "speed = st.sidebar.slider(\"⏩ Playback speed\", 0.1, 5.0, 1.0)\n",
        "st.sidebar.markdown(\"---\")\n",
        "st.sidebar.markdown(\"👤 Built by [Your Name](https://example.com)\")\n",
        "\n",
        "# --- Layout ---\n",
        "chart = st.empty()\n",
        "metrics = st.columns(5)\n",
        "alert = st.empty()\n",
        "reasoning = st.container()\n",
        "logbox = st.expander(\"🧠 Agent Logs\", expanded=False)\n",
        "\n",
        "# --- Simulated Data Stream ---\n",
        "stream = simulate_stream()\n",
        "\n",
        "history = []\n",
        "\n",
        "for packet in stream:\n",
        "    timestamp, readings = packet[\"timestamp\"], packet[\"readings\"]\n",
        "    history.append({\"timestamp\": timestamp, **readings})\n",
        "    df = pd.DataFrame(history).set_index(\"timestamp\")\n",
        "\n",
        "    # --- Adaptive Window ---\n",
        "    window_size = adaptive_agent.predict_window(df)\n",
        "    window_df = df.tail(window_size)\n",
        "\n",
        "    # --- Sensor Agents ---\n",
        "    local_alerts = []\n",
        "    for i, (sensor, agent) in enumerate(sensor_agents.items()):\n",
        "        latest_val = readings[sensor]\n",
        "        metrics[i].metric(sensor, round(latest_val, 2))\n",
        "        if agent.detect(latest_val):\n",
        "            local_alerts.append(sensor)\n",
        "\n",
        "    # --- Global Anomaly Detection ---\n",
        "    global_anomaly = global_agent.detect(window_df)\n",
        "\n",
        "    # --- Master Agent Orchestration ---\n",
        "    final_decision, reasoning_text = master_agent.decide(local_alerts, global_anomaly)\n",
        "\n",
        "    # --- UI Updates ---\n",
        "    chart.line_chart(df)\n",
        "\n",
        "    if final_decision:\n",
        "        alert.warning(\"⚠️ Anomaly Detected by Agent Network!\")\n",
        "    else:\n",
        "        alert.success(\"✅ System Stable\")\n",
        "\n",
        "    with reasoning:\n",
        "        st.markdown(\"### 🤖 Agent Reasoning\")\n",
        "        st.info(reasoning_text)\n",
        "\n",
        "    with logbox:\n",
        "        st.write(master_agent.get_logs())\n",
        "\n",
        "    time.sleep(1.0 / speed)\n"
      ],
      "metadata": {
        "id": "oOHjAhnZs1Az",
        "outputId": "666af7b6-dafc-441c-9fc1-ce4545913a02",
        "colab": {
          "base_uri": "https://localhost:8080/"
        }
      },
      "execution_count": null,
      "outputs": [
        {
          "output_type": "stream",
          "name": "stdout",
          "text": [
            "Overwriting streamlit_app.py\n"
          ]
        }
      ]
    },
    {
      "cell_type": "markdown",
      "source": [],
      "metadata": {
        "id": "W-RMQkgLak9I"
      }
    },
    {
      "cell_type": "markdown",
      "source": [],
      "metadata": {
        "id": "0zEUESMBM_Eo"
      }
    },
    {
      "cell_type": "code",
      "source": [
        "!jupyter nbconvert --to script Streamlittest.ipynb\n",
        "!mv streamlit_app.py app.py"
      ],
      "metadata": {
        "id": "vWk8VjiGqwl0",
        "outputId": "59173ef4-71a7-47a6-e430-ae408ef37f84",
        "colab": {
          "base_uri": "https://localhost:8080/"
        }
      },
      "execution_count": 12,
      "outputs": [
        {
          "output_type": "stream",
          "name": "stdout",
          "text": [
            "[NbConvertApp] Converting notebook Streamlittest.ipynb to script\n",
            "[NbConvertApp] Writing 3209 bytes to Streamlittest.txt\n"
          ]
        }
      ]
    },
    {
      "cell_type": "markdown",
      "metadata": {
        "id": "bQ6ZgIvrdRNp"
      },
      "source": [
        "# New Section"
      ]
    }
  ],
  "metadata": {
    "colab": {
      "provenance": [],
      "machine_shape": "hm",
      "mount_file_id": "https://github.com/supriyag123/PHD_Pub/blob/main/PAPER_GDRNet_METROPM_Step1.ipynb",
      "authorship_tag": "ABX9TyM7EnNy5SLyFs7XciZmK+/F",
      "include_colab_link": true
    },
    "kernelspec": {
      "display_name": "Python 3",
      "name": "python3"
    },
    "language_info": {
      "name": "python"
    }
  },
  "nbformat": 4,
  "nbformat_minor": 0
}