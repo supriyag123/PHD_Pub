{
  "cells": [
    {
      "cell_type": "markdown",
      "metadata": {
        "id": "view-in-github",
        "colab_type": "text"
      },
      "source": [
        "<a href=\"https://colab.research.google.com/github/supriyag123/PHD_Pub/blob/main/Step%201B%20-%20Consolidate%20subsequences%20and%20run%20VAR.ipynb\" target=\"_parent\"><img src=\"https://colab.research.google.com/assets/colab-badge.svg\" alt=\"Open In Colab\"/></a>"
      ]
    },
    {
      "cell_type": "code",
      "execution_count": 32,
      "metadata": {
        "id": "T-BJGPTX7XS5"
      },
      "outputs": [],
      "source": [
        "!pip install statsmodels --upgrade\n",
        "!pip install -U lingam\n",
        "import pandas as pd\n",
        "import numpy as np\n",
        "from sklearn.preprocessing import MinMaxScaler\n",
        "import matplotlib.pyplot as plt\n",
        "import tensorflow as tf\n",
        "import os\n",
        "import math\n",
        "import plotly.graph_objects as go\n",
        "from tensorflow import keras\n",
        "from tensorflow.keras import layers\n",
        "from tensorflow.keras.models import Sequential\n",
        "from tensorflow.keras.layers import Dense, LSTM, Dropout, RepeatVector, TimeDistributed, Input\n",
        "from keras.models import Model\n",
        "from statsmodels.tsa.api import VAR\n",
        "from statsmodels.tsa.stattools import adfuller\n",
        "from statsmodels.tools.eval_measures import rmse, aic\n",
        "import ast\n",
        "from statsmodels.tsa.ar_model import AutoReg\n",
        "from sklearn.metrics import mean_squared_error\n",
        "from math import sqrt\n",
        "from matplotlib import pyplot\n",
        "from sklearn.linear_model import LinearRegression\n",
        "from sklearn import linear_model\n",
        "from sklearn.ensemble import RandomForestRegressor\n",
        "from sklearn.model_selection import KFold\n",
        "from sklearn.model_selection import cross_val_score\n",
        "from sklearn.linear_model import LassoCV\n",
        "from sklearn.model_selection import RepeatedKFold\n",
        "from sklearn.model_selection import TimeSeriesSplit\n",
        "from numpy import arange\n",
        "import warnings\n",
        "warnings.filterwarnings('ignore')\n",
        "#from keras.utils import plot_model\n",
        "#import matplotlib.pyplot as plt\n",
        "from statsmodels.tsa.stattools import grangercausalitytests\n",
        "\n",
        "embed_path = '/content/drive/MyDrive/PHD/2024/iosw_files/'       # Use forward slash (/) at the end\n",
        "dff=pd.DataFrame()\n",
        "arr = np.array([[]])\n",
        "for file in os.listdir(embed_path):\n",
        "    temp = np.load(embed_path + file)\n",
        "\n",
        "    arr = np.vstack(temp)\n",
        "    df = pd.DataFrame(arr)\n",
        "    dff = pd.concat([dff, df], ignore_index=True)\n",
        "\n",
        "dff.columns =['i', 'j', 'window', 'rsme']\n",
        "#drop RMSE\n",
        "\n",
        "dff.drop('rsme', axis=1, inplace=True)\n",
        "\n",
        "compressed_max = dff.loc[dff.groupby([\"i\"]).window.idxmax()]\n",
        "compressed_min = dff.loc[dff.groupby([\"i\"]).window.idxmin()]\n",
        "\n",
        "compressed_max.columns = ['i','j','win_max']\n",
        "compressed_min.columns = ['i','j','win_min']\n",
        "\n",
        "combined_df = compressed_min.join(compressed_max.set_index('i'), on='i', lsuffix='min', rsuffix='max')\n",
        "combined_df.drop('jmin', axis=1, inplace=True)\n",
        "combined_df.drop('jmax', axis=1, inplace=True)\n",
        "np.save(r'/content/drive/MyDrive/PHD/2024/iosw_files/combined_iosw.npy',combined_df)\n",
        "\n",
        "Long_train = np.load(r'/content/drive/MyDrive/PHD/2024/multivariate_long_sequences-TRAIN_hourly.npy')\n",
        "\n",
        "for i in range(Long_train.shape[0]) :\n",
        "  cur_seq = Long_train[i,:,:]\n",
        "  AIC.clear()\n",
        "  model = VAR(cur_seq)\n",
        "\n",
        "  for m in (range(min(min_window_list),max(min_window_list)+1)):\n",
        "    #print(Long_train)\n",
        "    try:\n",
        "      results = model.fit(m)\n",
        "      print('Order =', m)\n",
        "      print('AIC: ', results.aic)\n",
        "      print('BIC: ', results.bic)\n",
        "      AIC.append(results.aic)\n",
        "    except:\n",
        "      AIC.append(99999)\n",
        "      print('VAR could not solve row number')\n",
        "      print(i, m)\n",
        "\n",
        "\n",
        "  minAIC_index = AIC.index(min(AIC))+min(min_window_list)\n",
        "  print(AIC)\n",
        "  print('Minimum lag = ', minAIC_index)\n",
        "  best_window_for_long_seq.append(minAIC_index)\n",
        "\n",
        "#OUT OF ALL LOOPS NOW\n",
        "#best_window_for_long_seq now contains the best multivariate window size for each of the long sequence i\n",
        "print(best_window_for_long_seq)\n",
        "Window_train = np.array(best_window_for_long_seq)\n",
        "\n",
        "np.save(r'/content/drive/MyDrive/PHD/2024/multivariate_long_sequences-TRAIN_hourly.npy',Long_train)\n",
        "np.save(r'/content/drive/MyDrive/PHD/2024/multivariate_long_sequences_WINDOW-TRAIN_hourly.npy',Window_train)\n",
        "\n"
      ]
    },
    {
      "cell_type": "code",
      "source": [
        "from google.colab import drive\n",
        "drive.mount('/content/drive')"
      ],
      "metadata": {
        "id": "Xp-Mv3Ksamxv"
      },
      "execution_count": null,
      "outputs": []
    },
    {
      "cell_type": "markdown",
      "source": [],
      "metadata": {
        "id": "0zEUESMBM_Eo"
      }
    },
    {
      "cell_type": "markdown",
      "metadata": {
        "id": "bQ6ZgIvrdRNp"
      },
      "source": [
        "# New Section"
      ]
    }
  ],
  "metadata": {
    "colab": {
      "provenance": [],
      "machine_shape": "hm",
      "mount_file_id": "https://github.com/supriyag123/PHD_Pub/blob/main/Step%201B%20-%20Consolidate%20subsequences%20and%20run%20VAR.ipynb",
      "authorship_tag": "ABX9TyPnTn04+C8J38GiouzlUVHQ",
      "include_colab_link": true
    },
    "kernelspec": {
      "display_name": "Python 3",
      "name": "python3"
    },
    "language_info": {
      "name": "python"
    }
  },
  "nbformat": 4,
  "nbformat_minor": 0
}